{
 "cells": [
  {
   "cell_type": "code",
   "execution_count": null,
   "metadata": {},
   "outputs": [],
   "source": [
    "from swift_control.data import (\n",
    "    create_grid_data,\n",
    "    training_data_gen,\n",
    "    xdot_training_data_gen,\n",
    ")\n",
    "from swift_control.eval import eval_cs\n",
    "from swift_control.train import train_episodic\n",
    "from plant_factory import ControllerFactory\n",
    "import numpy as np\n",
    "import mosek"
   ]
  },
  {
   "cell_type": "code",
   "execution_count": null,
   "metadata": {},
   "outputs": [],
   "source": [
    "swift_path = \"/share/dean/fast_control/models/swift_grid/\"\n",
    "plant_conf = swift_path + \"base_config.toml\"\n",
    "grid_path = swift_path + \"grid_data.npz\"\n",
    "x_0 = np.array([3.1, 0.0, 0.0, 0.0])\n",
    "\n",
    "plant = ControllerFactory(plant_conf)\n",
    "kwargs = x_0, plant.episodic_T, plant.episodic_num_steps\n",
    "\n",
    "oracle_cs, ts = eval_cs(plant.system, plant.oracle_controller, *kwargs)\n",
    "qp_cs, _ = eval_cs(plant.system, plant.qp_controller, *kwargs)\n",
    "\n",
    "\n",
    "c_cdot = 0"
   ]
  },
  {
   "cell_type": "code",
   "execution_count": null,
   "metadata": {},
   "outputs": [],
   "source": [
    "confs = []\n",
    "gp_controller_pair = []\n",
    "gp_cs = []\n",
    "names = []\n",
    "for i in range(1,5):\n",
    "    model_conf = swift_path + f\"m{i}_config.toml\"\n",
    "    gp_controller, gp = train_episodic(plant, model_conf, x_0, warm_start=True, grid_path= grid_path)\n",
    "    model_cs, _ = eval_cs(plant.system, gp_controller, *kwargs)\n",
    "\n",
    "    confs.append(model_conf)\n",
    "    gp_controller_pair.append((gp_controller, gp))\n",
    "    gp_cs.append(model_cs)\n",
    "    names.append(gp_controller.name)"
   ]
  },
  {
   "cell_type": "code",
   "execution_count": null,
   "metadata": {},
   "outputs": [],
   "source": [
    "import seaborn as sns\n",
    "\n",
    "sns.lineplot(\n",
    "    x=ts,\n",
    "    y=qp_cs[c_cdot],\n",
    "    linestyle=\"dotted\",\n",
    "    color=\"black\",\n",
    "    label=\"qp_controller\",\n",
    ")\n",
    "sns.lineplot(\n",
    "    x=ts,\n",
    "    y=oracle_cs[c_cdot],\n",
    "    linestyle=\"dashdot\",\n",
    "    color=\"black\",\n",
    "    label=\"oracle_controller\",\n",
    ")\n",
    "for model_cs, name in zip(gp_cs, names):\n",
    "    sns.lineplot(\n",
    "        x=ts,\n",
    "        y=model_cs[c_cdot],\n",
    "        label=name,\n",
    "        alpha=0.5,\n",
    "    )"
   ]
  }
 ],
 "metadata": {
  "language_info": {
   "name": "python"
  }
 },
 "nbformat": 4,
 "nbformat_minor": 2
}
