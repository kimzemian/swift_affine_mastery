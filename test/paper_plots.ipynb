{
 "cells": [
  {
   "cell_type": "code",
   "execution_count": null,
   "metadata": {},
   "outputs": [],
   "source": [
    "import matplotlib\n",
    "import seaborn as sns\n",
    "import matplotlib.pyplot as plt\n",
    "import time\n",
    "colwidth = 9/2.54  # 9 cm\n",
    "plt.rcParams['font.family'] = 'sans-serif'\n",
    "matplotlib.rcParams['text.usetex'] = False\n",
    "sns.set(style=\"ticks\")\n",
    "# plt.rc('font', family='serif')\n",
    "# plt.rc('font', serif='Times New Roman')\n",
    "\n",
    "SMALL_SIZE = 8\n",
    "MEDIUM_SIZE = 10\n",
    "BIGGER_SIZE = 12\n",
    "\n",
    "plt.rc('font', size=BIGGER_SIZE)          # controls default text sizes\n",
    "plt.rc('axes', titlesize=BIGGER_SIZE)     # fontsize of the axes title\n",
    "plt.rc('axes', labelsize=BIGGER_SIZE)    # fontsize of the x and y labels\n",
    "plt.rc('xtick', labelsize=BIGGER_SIZE)    # fontsize of the tick labels\n",
    "plt.rc('ytick', labelsize=BIGGER_SIZE)    # fontsize of the tick labels\n",
    "plt.rc('legend', fontsize=BIGGER_SIZE)    # legend fontsize\n",
    "plt.rc('figure', titlesize=MEDIUM_SIZE)  # fontsize of the figure title\n",
    "\n",
    "# sns.set_style('ticks', {'font.family':'serif', 'font.serif':'Times New Roman'})\n",
    "sns.set_palette(\"muted\")"
   ]
  },
  {
   "cell_type": "markdown",
   "metadata": {},
   "source": [
    "plot function for C(x):"
   ]
  },
  {
   "cell_type": "code",
   "execution_count": null,
   "metadata": {},
   "outputs": [],
   "source": [
    "\n",
    "def plotit(ts, qp_cs, oracle_cs, gp_cs, names, c_cdot, plot_path):\n",
    "    plt.figure(figsize=(6,4))\n",
    "    sns.lineplot(\n",
    "        x=ts,\n",
    "        y=qp_cs[c_cdot],\n",
    "        linestyle=\"dotted\",\n",
    "        color=\"black\",\n",
    "        label=\"nominal\",\n",
    "    )\n",
    "    sns.lineplot(\n",
    "        x=ts,\n",
    "        y=oracle_cs[c_cdot],\n",
    "        linestyle=\"dashdot\",\n",
    "        color=\"black\",\n",
    "        label=\"oracle\",\n",
    "    )\n",
    "    for model_cs, name in zip(gp_cs, names):\n",
    "        sns.lineplot(\n",
    "            x=ts,\n",
    "            y=model_cs[c_cdot],\n",
    "            label=name,\n",
    "            alpha=0.5,\n",
    "        )\n",
    "    plt.xlabel(\"time(s)\")\n",
    "    plt.ylabel('$C(x)$')\n",
    "    plt.tight_layout()\n",
    "    plt.legend()\n",
    "    # plt.figure(figsize=(1.5,2))\n",
    "    plt.savefig(plot_path, figsize=(6,4), dpi=300)\n",
    "    plt.show()\n",
    "    plt.close()  "
   ]
  },
  {
   "cell_type": "code",
   "execution_count": null,
   "metadata": {},
   "outputs": [],
   "source": [
    "plot C(x):"
   ]
  },
  {
   "cell_type": "code",
   "execution_count": null,
   "metadata": {},
   "outputs": [],
   "source": [
    "import numpy as np\n",
    "from plant_factory import ControllerFactory\n",
    "from swift_control.eval import eval_cs\n",
    "swift_path = \"/share/dean/fast_control/models/swift_grid/\"\n",
    "file_path = swift_path + \"warm_episodic/linear_static_cost/\"\n",
    "plant_conf = swift_path + \"base_config.toml\"\n",
    "plot_path = swift_path + \"paper/\"\n",
    "qp_cs = np.load(file_path+\"qp_cs.npy\")\n",
    "x_0 = np.array([2.0, 0.0, 0.0, 0.0])\n",
    "plant = ControllerFactory(plant_conf)\n",
    "kwargs = x_0, plant.episodic_T, plant.episodic_num_steps\n",
    "oracle_cs, ts = eval_cs(plant.system, plant.oracle_controller, *kwargs)\n",
    "gp_cs =  np.load(file_path+\"gp_cs.npy\")\n",
    "names = ['AD-RF','AD-K','ADP-RF','ADP-K']\n",
    "ts = np.linspace(0,10,100)\n",
    "plotit(ts, qp_cs, oracle_cs, gp_cs, names, 0, plot_path)"
   ]
  },
  {
   "cell_type": "markdown",
   "metadata": {},
   "source": [
    "plot function for dimension test:"
   ]
  },
  {
   "cell_type": "code",
   "execution_count": null,
   "metadata": {},
   "outputs": [],
   "source": [
    "def plot(data, name, train_time, test_time, gp_names):\n",
    "    cutoff = 40\n",
    "    sns.color_palette(\"Set2\",4)\n",
    "    plot_path = \"/share/dean/fast_control/models/swift_grid/paper/\"\n",
    "    steps = data.shape[1]\n",
    "    pre_xs = np.arange(100, steps * 101, 100)[:cutoff]\n",
    "    xs = np.tile(pre_xs, 10)\n",
    "\n",
    "    data = data[:, :cutoff, :]\n",
    "    train_time = train_time[:, :cutoff]\n",
    "    plt.figure(figsize=(6,4))\n",
    "    ax = sns.lineplot(\n",
    "        x=xs,\n",
    "        y=data[0, :, :].flatten(\"F\"),\n",
    "        estimator=np.median,\n",
    "        errorbar=lambda x: (np.quantile(x, 0.25), np.quantile(x, 0.75)),\n",
    "        label=gp_names[0],\n",
    "    )\n",
    "   \n",
    "    sns.lineplot(\n",
    "        x=xs,\n",
    "        y=data[2, :, :].flatten(\"F\"),\n",
    "        estimator=np.median,\n",
    "        errorbar=lambda x: (np.quantile(x, 0.25), np.quantile(x, 0.75)),\n",
    "        label=gp_names[2],\n",
    "    )\n",
    "\n",
    "    sns.lineplot(x=xs, y=data[1, :, :].flatten(\"F\"), label=gp_names[1], alpha=0.6)\n",
    "    sns.lineplot(x=xs, y=data[3, :, :].flatten(\"F\"), label=gp_names[3], alpha=0.6)\n",
    "\n",
    "    # ax2 = plt.twinx()\n",
    "    # for i in range(4):\n",
    "    #     sns.lineplot(x=pre_xs, y=train_time[i,:30], ax=ax2)\n",
    "    # sns.lineplot(x=xs, y=test_time, ax=ax2, label=\"test_time\")\n",
    "    \n",
    "    # ax2.set_ylabel(\"train time(s)\")\n",
    "    plt.xlabel(\"feature dimension\")\n",
    "    ax.set_ylabel(f\"{name}\")\n",
    "    plt.tight_layout()\n",
    "    plt.legend()\n",
    "    plt.savefig(plot_path + f\"{name}_grid.png\",dpi=300)\n",
    "    plt.show()"
   ]
  },
  {
   "cell_type": "markdown",
   "metadata": {},
   "source": [
    "plot function for training time"
   ]
  },
  {
   "cell_type": "markdown",
   "metadata": {},
   "source": [
    "\n",
    "def plottof(train_time, names, steps):\n",
    "    cutoff = 40\n",
    "    plot_path = \"/share/dean/fast_control/models/swift_grid/paper/\"\n",
    "    pre_xs = np.arange(100, steps * 101, 100)[:cutoff]\n",
    "    print(pre_xs.shape)\n",
    "    print(train_time.shape)\n",
    "    plt.figure(figsize=(6,4))\n",
    "    for i in {0,2}:\n",
    "        sns.lineplot(x=pre_xs, y=train_time[i,:cutoff], label=names[i])\n",
    "    for i in {1,3}:\n",
    "        sns.lineplot(x=pre_xs, y=train_time[i,:cutoff], label=names[i])\n",
    "    plt.xlabel(\"feature dimension\")\n",
    "    plt.ylabel(\"average train time(s)\")\n",
    "    plt.savefig(plot_path + f\"train_time.png\",dpi=300)\n",
    "    plt.show()"
   ]
  },
  {
   "cell_type": "markdown",
   "metadata": {},
   "source": [
    "plot dimenesion test and train time:"
   ]
  },
  {
   "cell_type": "code",
   "execution_count": null,
   "metadata": {},
   "outputs": [],
   "source": [
    "import numpy as np\n",
    "static_path = \"/share/dean/fast_control/models/swift_grid/static_tests/small/\"\n",
    "names = ['AD-RF','AD-K','ADP-RF','ADP-K']\n",
    "rmse = np.load(static_path + \"static_tests_rmse_grid.npy\")\n",
    "train_time = np.load(static_path + \"static_tests_train_time_grid.npy\")\n",
    "test_time = np.load(static_path + \"static_tests_train_time_grid.npy\")\n",
    "plot(rmse, \"RMSE\", train_time.mean(axis=2), test_time, names)\n",
    "plottof(train_time.mean(axis=2), names, rmse.shape[1])"
   ]
  },
  {
   "cell_type": "code",
   "execution_count": null,
   "metadata": {},
   "outputs": [],
   "source": [
    "import numpy as np\n",
    "static_path = \"/share/dean/fast_control/models/swift_grid/static_tests/medium/\"\n",
    "names = ['AD-RF','AD-K','ADP-RF','ADP-K']\n",
    "rmse = np.load(static_path + \"static_tests_rmse_grid.npy\")\n",
    "train_time = np.load(static_path + \"static_tests_train_time_grid.npy\")\n",
    "test_time = np.load(static_path + \"static_tests_train_time_grid.npy\")\n",
    "plot(rmse, \"RMSE\", train_time, test_time, names)\n",
    "plottof(train_time, names, rmse.shape[1])"
   ]
  }
 ],
 "metadata": {
  "language_info": {
   "name": "python"
  }
 },
 "nbformat": 4,
 "nbformat_minor": 2
}
