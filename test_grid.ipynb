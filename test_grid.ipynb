{
 "cells": [
  {
   "cell_type": "code",
   "execution_count": 1,
   "metadata": {},
   "outputs": [],
   "source": [
    "from swift_control.data import (\n",
    "    create_grid_data,\n",
    "    training_data_gen,\n",
    "    xdot_training_data_gen,\n",
    ")\n",
    "from swift_control.eval import eval_cs\n",
    "from swift_control.train import train_episodic\n",
    "from plant_factory import ControllerFactory\n",
    "import numpy as np\n",
    "import mosek\n",
    "from swift_control.init_gpc import init_gpcontroller\n",
    "from gp_factory.init_gp import init_trained_gp"
   ]
  },
  {
   "cell_type": "code",
   "execution_count": 2,
   "metadata": {},
   "outputs": [],
   "source": [
    "swift_path = \"/share/dean/fast_control/models/swift_grid/\"\n",
    "plant_conf = swift_path + \"base_config.toml\"\n",
    "\n",
    "x_0 = np.array([2.0, 0.0, 0.0, 0.0])\n",
    "\n",
    "plant = ControllerFactory(plant_conf)\n",
    "kwargs = x_0, plant.episodic_T, plant.episodic_num_steps\n",
    "\n",
    "oracle_cs, ts = eval_cs(plant.system, plant.oracle_controller, *kwargs)\n",
    "qp_cs, _ = eval_cs(plant.system, plant.qp_controller, *kwargs)\n",
    "\n",
    "\n",
    "c_cdot = 0"
   ]
  },
  {
   "cell_type": "code",
   "execution_count": 3,
   "metadata": {},
   "outputs": [
    {
     "name": "stdout",
     "output_type": "stream",
     "text": [
      "data size:10963, calculated rf_d is: 2436\n",
      "gp_name: ad_rf, training time: 3.9552128269860987\n",
      "gp_name: ad_kernel, training time: 99.04429847100982\n",
      "data size:10963, calculated rf_d is: 2436\n",
      "gp_name: adp_rf, training time: 41.98073925200151\n"
     ]
    }
   ],
   "source": [
    "grid_data = np.load(swift_path + \"grid_data.npz\").values()\n",
    "confs = []\n",
    "gp_controller_pair = []\n",
    "gp_cs = []\n",
    "names = []\n",
    "for i in range(1, 5):\n",
    "    model_conf = swift_path + f\"m{i}_config.toml\"\n",
    "    gp = init_trained_gp(model_conf, grid_data)\n",
    "    gp_controller = init_gpcontroller(plant, gp)\n",
    "    model_cs, _ = eval_cs(plant.system, gp_controller, *kwargs)\n",
    "\n",
    "    confs.append(model_conf)\n",
    "    gp_controller_pair.append((gp_controller, gp))\n",
    "    gp_cs.append(model_cs)\n",
    "    names.append(gp_controller.name)"
   ]
  },
  {
   "cell_type": "code",
   "execution_count": null,
   "metadata": {},
   "outputs": [],
   "source": [
    "import seaborn as sns\n",
    "\n",
    "sns.lineplot(\n",
    "    x=ts,\n",
    "    y=qp_cs[c_cdot],\n",
    "    linestyle=\"dotted\",\n",
    "    color=\"black\",\n",
    "    label=\"qp_controller\",\n",
    ")\n",
    "sns.lineplot(\n",
    "    x=ts,\n",
    "    y=oracle_cs[c_cdot],\n",
    "    linestyle=\"dashdot\",\n",
    "    color=\"black\",\n",
    "    label=\"oracle_controller\",\n",
    ")\n",
    "for model_cs, name in zip(gp_cs, names):\n",
    "    sns.lineplot(\n",
    "        x=ts,\n",
    "        y=model_cs[c_cdot],\n",
    "        label=name,\n",
    "        alpha=0.5,\n",
    "    )"
   ]
  }
 ],
 "metadata": {
  "kernelspec": {
   "display_name": "Python 3 (ipykernel)",
   "language": "python",
   "name": "python3"
  },
  "language_info": {
   "codemirror_mode": {
    "name": "ipython",
    "version": 3
   },
   "file_extension": ".py",
   "mimetype": "text/x-python",
   "name": "python",
   "nbconvert_exporter": "python",
   "pygments_lexer": "ipython3",
   "version": "3.8.10"
  }
 },
 "nbformat": 4,
 "nbformat_minor": 2
}
